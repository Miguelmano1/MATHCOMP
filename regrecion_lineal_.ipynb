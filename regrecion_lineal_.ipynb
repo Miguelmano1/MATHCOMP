{
  "nbformat": 4,
  "nbformat_minor": 0,
  "metadata": {
    "colab": {
      "provenance": []
    },
    "kernelspec": {
      "name": "python3",
      "display_name": "Python 3"
    },
    "language_info": {
      "name": "python"
    }
  },
  "cells": [
    {
      "cell_type": "code",
      "execution_count": 1,
      "metadata": {
        "colab": {
          "base_uri": "https://localhost:8080/"
        },
        "id": "12q4qBflEXKV",
        "outputId": "1f2b9a2b-6b9c-4374-a52a-e1dca3ca0280"
      },
      "outputs": [
        {
          "output_type": "stream",
          "name": "stdout",
          "text": [
            "Coeficientes de la regresión: [-1.37083333  0.72083333]\n",
            "Término independiente: 4.033333333333332\n",
            "Coeficiente de correlación (r): 0.884056769980876\n"
          ]
        }
      ],
      "source": [
        "import numpy as np\n",
        "from sklearn.linear_model import LinearRegression\n",
        "from scipy.stats import pearsonr\n",
        "\n",
        "# Definición de los datos de la tabla\n",
        "datos = {\n",
        "    'x1': [1, 1, 2, 3, 1, 2, 3, 3, 3],\n",
        "    'x2': [-1, 0, 0, 1, 1, 2, 2, 2, 0],\n",
        "    'y': [1.6, 3.0, 1.1, 1.2, 3.2, 3.3, 1.7, 0.1, 0.1]\n",
        "}\n",
        "\n",
        "# Crear matrices de entrada (X) y salida (y)\n",
        "X = np.column_stack((datos['x1'], datos['x2']))\n",
        "y = np.array(datos['y'])\n",
        "\n",
        "# Crear y ajustar el modelo de regresión lineal\n",
        "modelo = LinearRegression()\n",
        "modelo.fit(X, y)\n",
        "\n",
        "# Mostrar los coeficientes y el término independiente\n",
        "print(\"Coeficientes de la regresión:\", modelo.coef_)\n",
        "print(\"Término independiente:\", modelo.intercept_)\n",
        "\n",
        "# Calcular y mostrar el coeficiente de correlación r\n",
        "predicciones = modelo.predict(X)\n",
        "r, _ = pearsonr(y, predicciones)\n",
        "print(\"Coeficiente de correlación (r):\", r)"
      ]
    }
  ]
}