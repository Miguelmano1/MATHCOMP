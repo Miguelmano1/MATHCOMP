{
  "nbformat": 4,
  "nbformat_minor": 0,
  "metadata": {
    "colab": {
      "provenance": []
    },
    "kernelspec": {
      "name": "python3",
      "display_name": "Python 3"
    },
    "language_info": {
      "name": "python"
    }
  },
  "cells": [
    {
      "cell_type": "code",
      "execution_count": 1,
      "metadata": {
        "colab": {
          "base_uri": "https://localhost:8080/"
        },
        "id": "12q4qBflEXKV",
        "outputId": "1f2b9a2b-6b9c-4374-a52a-e1dca3ca0280"
      },
      "outputs": [
        {
          "output_type": "stream",
          "name": "stdout",
          "text": [
            "Coeficientes de la regresión: [-1.37083333  0.72083333]\n",
            "Término independiente: 4.033333333333332\n",
            "Coeficiente de correlación (r): 0.884056769980876\n"
          ]
        }
      ],
      "source": [
        "import numpy as np\n",
        "from scipy.stats import pearsonr\n",
        "\n",
        "# Definición de los datos de la tabla\n",
        "datos = {\n",
        "    'x': [0, 1, 2, 3, 4, 5, 6],\n",
        "    'y': [-0.9, 0, 2, 4.5, 8.3, 13, 18]\n",
        "}\n",
        "\n",
        "# Crear arrays para x e y\n",
        "x = np.array(datos['x'])\n",
        "y = np.array(datos['y'])\n",
        "\n",
        "# Ajustar un polinomio de segundo grado a los datos\n",
        "coeficientes = np.polyfit(x, y, 2)\n",
        "polinomio = np.poly1d(coeficientes)\n",
        "\n",
        "# Mostrar los coeficientes del polinomio\n",
        "print(\"Coeficientes del polinomio de segundo grado:\", coeficientes)\n",
        "\n",
        "# Generar las predicciones usando el polinomio ajustado\n",
        "predicciones = polinomio(x)\n",
        "\n",
        "# Calcular el coeficiente de correlación r\n",
        "r, _ = pearsonr(y, predicciones)\n",
        "print(\"Coeficiente de correlación (r):\", r)"
      ]
    }
  ]
}